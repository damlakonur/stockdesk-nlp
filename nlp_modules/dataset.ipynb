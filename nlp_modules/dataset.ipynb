{
 "cells": [
  {
   "cell_type": "code",
   "execution_count": 2,
   "metadata": {},
   "outputs": [],
   "source": [
    "import pandas as pd"
   ]
  },
  {
   "cell_type": "code",
   "execution_count": 5,
   "metadata": {},
   "outputs": [
    {
     "data": {
      "text/plain": [
       "2358"
      ]
     },
     "execution_count": 5,
     "metadata": {},
     "output_type": "execute_result"
    }
   ],
   "source": [
    "df1 = pd.read_csv('damla/dataset.csv')\n",
    "len(df1)"
   ]
  },
  {
   "cell_type": "code",
   "execution_count": 8,
   "metadata": {},
   "outputs": [],
   "source": [
    "gercek_df = df1[df1['label'] == 'Gerçek']\n"
   ]
  },
  {
   "cell_type": "code",
   "execution_count": 9,
   "metadata": {},
   "outputs": [
    {
     "data": {
      "text/plain": [
       "1222"
      ]
     },
     "execution_count": 9,
     "metadata": {},
     "output_type": "execute_result"
    }
   ],
   "source": [
    "len(gercek_df)"
   ]
  },
  {
   "cell_type": "code",
   "execution_count": 130,
   "metadata": {},
   "outputs": [],
   "source": [
    "#read jsonl\n",
    "labels = pd.read_json('final_labelled.jsonl', orient='records', lines=True)"
   ]
  },
  {
   "cell_type": "code",
   "execution_count": 131,
   "metadata": {},
   "outputs": [
    {
     "data": {
      "text/plain": [
       "1129"
      ]
     },
     "execution_count": 131,
     "metadata": {},
     "output_type": "execute_result"
    }
   ],
   "source": [
    "len(labels)"
   ]
  },
  {
   "cell_type": "code",
   "execution_count": 132,
   "metadata": {},
   "outputs": [],
   "source": [
    "labels[\"label\"] = 'Yargı'"
   ]
  },
  {
   "cell_type": "code",
   "execution_count": 133,
   "metadata": {},
   "outputs": [],
   "source": [
    "dataset = pd.concat([gercek_df, labels])"
   ]
  },
  {
   "cell_type": "code",
   "execution_count": 134,
   "metadata": {},
   "outputs": [
    {
     "data": {
      "text/html": [
       "<div>\n",
       "<style scoped>\n",
       "    .dataframe tbody tr th:only-of-type {\n",
       "        vertical-align: middle;\n",
       "    }\n",
       "\n",
       "    .dataframe tbody tr th {\n",
       "        vertical-align: top;\n",
       "    }\n",
       "\n",
       "    .dataframe thead th {\n",
       "        text-align: right;\n",
       "    }\n",
       "</style>\n",
       "<table border=\"1\" class=\"dataframe\">\n",
       "  <thead>\n",
       "    <tr style=\"text-align: right;\">\n",
       "      <th></th>\n",
       "      <th>id</th>\n",
       "      <th>text</th>\n",
       "      <th>date</th>\n",
       "      <th>user</th>\n",
       "      <th>rt</th>\n",
       "      <th>fav</th>\n",
       "      <th>followers</th>\n",
       "      <th>verified</th>\n",
       "      <th>label</th>\n",
       "    </tr>\n",
       "  </thead>\n",
       "  <tbody>\n",
       "    <tr>\n",
       "      <th>0</th>\n",
       "      <td>221222</td>\n",
       "      <td>Bloomberg Businessweek’in 3 Temmuz tarihli öze...</td>\n",
       "      <td>2022-07-10 10:16:06+00:00</td>\n",
       "      <td>ibrahim___ethem</td>\n",
       "      <td>20</td>\n",
       "      <td>343</td>\n",
       "      <td>136873</td>\n",
       "      <td>False</td>\n",
       "      <td>Gerçek</td>\n",
       "    </tr>\n",
       "    <tr>\n",
       "      <th>1</th>\n",
       "      <td>221223</td>\n",
       "      <td>en UCUZ #BIST 100 #hisse'leri\\n#SAHOL 18,68&amp;gt...</td>\n",
       "      <td>2022-07-09 20:53:12+00:00</td>\n",
       "      <td>ASIM_YALCINKAYA</td>\n",
       "      <td>107</td>\n",
       "      <td>934</td>\n",
       "      <td>138759</td>\n",
       "      <td>False</td>\n",
       "      <td>Gerçek</td>\n",
       "    </tr>\n",
       "    <tr>\n",
       "      <th>2</th>\n",
       "      <td>221225</td>\n",
       "      <td>📍İstanbul Havalimanı dün tarihinin en yüksek u...</td>\n",
       "      <td>2022-07-09 07:01:24+00:00</td>\n",
       "      <td>ibrahim___ethem</td>\n",
       "      <td>23</td>\n",
       "      <td>379</td>\n",
       "      <td>136873</td>\n",
       "      <td>False</td>\n",
       "      <td>Gerçek</td>\n",
       "    </tr>\n",
       "    <tr>\n",
       "      <th>3</th>\n",
       "      <td>221226</td>\n",
       "      <td>📍Fortune 500 listesinde 2020 ve 2021’de yer al...</td>\n",
       "      <td>2022-07-08 13:02:50+00:00</td>\n",
       "      <td>ibrahim___ethem</td>\n",
       "      <td>62</td>\n",
       "      <td>665</td>\n",
       "      <td>136873</td>\n",
       "      <td>False</td>\n",
       "      <td>Gerçek</td>\n",
       "    </tr>\n",
       "    <tr>\n",
       "      <th>4</th>\n",
       "      <td>221227</td>\n",
       "      <td>Bi tatile gidip geldik 4-5 gün neler olmuş öyl...</td>\n",
       "      <td>2022-07-08 07:14:06+00:00</td>\n",
       "      <td>____PASA____</td>\n",
       "      <td>79</td>\n",
       "      <td>1647</td>\n",
       "      <td>111568</td>\n",
       "      <td>False</td>\n",
       "      <td>Gerçek</td>\n",
       "    </tr>\n",
       "  </tbody>\n",
       "</table>\n",
       "</div>"
      ],
      "text/plain": [
       "       id                                               text  \\\n",
       "0  221222  Bloomberg Businessweek’in 3 Temmuz tarihli öze...   \n",
       "1  221223  en UCUZ #BIST 100 #hisse'leri\\n#SAHOL 18,68&gt...   \n",
       "2  221225  📍İstanbul Havalimanı dün tarihinin en yüksek u...   \n",
       "3  221226  📍Fortune 500 listesinde 2020 ve 2021’de yer al...   \n",
       "4  221227  Bi tatile gidip geldik 4-5 gün neler olmuş öyl...   \n",
       "\n",
       "                        date             user   rt   fav  followers verified  \\\n",
       "0  2022-07-10 10:16:06+00:00  ibrahim___ethem   20   343     136873    False   \n",
       "1  2022-07-09 20:53:12+00:00  ASIM_YALCINKAYA  107   934     138759    False   \n",
       "2  2022-07-09 07:01:24+00:00  ibrahim___ethem   23   379     136873    False   \n",
       "3  2022-07-08 13:02:50+00:00  ibrahim___ethem   62   665     136873    False   \n",
       "4  2022-07-08 07:14:06+00:00     ____PASA____   79  1647     111568    False   \n",
       "\n",
       "    label  \n",
       "0  Gerçek  \n",
       "1  Gerçek  \n",
       "2  Gerçek  \n",
       "3  Gerçek  \n",
       "4  Gerçek  "
      ]
     },
     "execution_count": 134,
     "metadata": {},
     "output_type": "execute_result"
    }
   ],
   "source": [
    "dataset.head()"
   ]
  },
  {
   "cell_type": "code",
   "execution_count": 135,
   "metadata": {},
   "outputs": [
    {
     "data": {
      "text/plain": [
       "(1129, 1222)"
      ]
     },
     "execution_count": 135,
     "metadata": {},
     "output_type": "execute_result"
    }
   ],
   "source": [
    "len(dataset[dataset['label'] == 'Yargı']), len(dataset[dataset['label'] == 'Gerçek'])"
   ]
  },
  {
   "cell_type": "markdown",
   "metadata": {},
   "source": [
    "# Binary Classification Data"
   ]
  },
  {
   "cell_type": "code",
   "execution_count": 136,
   "metadata": {},
   "outputs": [],
   "source": [
    "dataset.to_csv('BinaryClassification/data/dataset.csv', index=False)"
   ]
  },
  {
   "cell_type": "markdown",
   "metadata": {},
   "source": [
    "# Token Classification Data "
   ]
  },
  {
   "cell_type": "code",
   "execution_count": 123,
   "metadata": {},
   "outputs": [],
   "source": [
    "label = pd.read_json('final_labelled.jsonl', orient='records', lines=True)"
   ]
  },
  {
   "cell_type": "code",
   "execution_count": 124,
   "metadata": {},
   "outputs": [
    {
     "data": {
      "text/plain": [
       "1129"
      ]
     },
     "execution_count": 124,
     "metadata": {},
     "output_type": "execute_result"
    }
   ],
   "source": [
    "len(label)"
   ]
  },
  {
   "cell_type": "code",
   "execution_count": 31,
   "metadata": {},
   "outputs": [],
   "source": [
    "for item in range(len(label.label)):\n",
    "    for lbl in label.iloc[item].label:\n",
    "        if(lbl[2] == \"Derece 1\" or lbl[2] == \"Derece 2\" or lbl[2] == \"Derece 3\" or lbl[2] == \"Pozitif Yorum\" or lbl[2] == \"Negatif Yorum\"): \n",
    "            label.iloc[item].label.remove(lbl)"
   ]
  },
  {
   "cell_type": "markdown",
   "metadata": {},
   "source": [
    "## Destek - Direnç - Vade - Hedef - Hisse "
   ]
  },
  {
   "cell_type": "code",
   "execution_count": 32,
   "metadata": {},
   "outputs": [],
   "source": [
    "label.to_json('tc_data.jsonl', orient='records', lines=True)"
   ]
  },
  {
   "cell_type": "markdown",
   "metadata": {},
   "source": [
    "# Pozitif Negatif Yorum Bulma"
   ]
  },
  {
   "cell_type": "code",
   "execution_count": 149,
   "metadata": {},
   "outputs": [],
   "source": [
    "data = pd.read_json('final_labelled.jsonl', orient='records', lines=True)"
   ]
  },
  {
   "cell_type": "code",
   "execution_count": 150,
   "metadata": {},
   "outputs": [
    {
     "data": {
      "text/plain": [
       "1129"
      ]
     },
     "execution_count": 150,
     "metadata": {},
     "output_type": "execute_result"
    }
   ],
   "source": [
    "len(data)"
   ]
  },
  {
   "cell_type": "code",
   "execution_count": 151,
   "metadata": {},
   "outputs": [
    {
     "data": {
      "text/html": [
       "<div>\n",
       "<style scoped>\n",
       "    .dataframe tbody tr th:only-of-type {\n",
       "        vertical-align: middle;\n",
       "    }\n",
       "\n",
       "    .dataframe tbody tr th {\n",
       "        vertical-align: top;\n",
       "    }\n",
       "\n",
       "    .dataframe thead th {\n",
       "        text-align: right;\n",
       "    }\n",
       "</style>\n",
       "<table border=\"1\" class=\"dataframe\">\n",
       "  <thead>\n",
       "    <tr style=\"text-align: right;\">\n",
       "      <th></th>\n",
       "      <th>id</th>\n",
       "      <th>text</th>\n",
       "      <th>date</th>\n",
       "      <th>user</th>\n",
       "      <th>rt</th>\n",
       "      <th>fav</th>\n",
       "      <th>followers</th>\n",
       "      <th>verified</th>\n",
       "      <th>label</th>\n",
       "    </tr>\n",
       "  </thead>\n",
       "  <tbody>\n",
       "    <tr>\n",
       "      <th>0</th>\n",
       "      <td>35017</td>\n",
       "      <td>#ykbnk \\n\\nDestek : 4,45\\nDirenç  :4,85</td>\n",
       "      <td>2022-07-21 06:08:51+00:00</td>\n",
       "      <td>borsa_adami</td>\n",
       "      <td>1</td>\n",
       "      <td>21</td>\n",
       "      <td>5473</td>\n",
       "      <td>False</td>\n",
       "      <td>[[0, 7, Hisse], [18, 22, Destek], [32, 36, Dir...</td>\n",
       "    </tr>\n",
       "    <tr>\n",
       "      <th>1</th>\n",
       "      <td>35058</td>\n",
       "      <td>#ykbnk 3.90\\n#AKBNK 7.70\\n#sahol 18.80\\n#dohol...</td>\n",
       "      <td>2022-06-29 14:51:24+00:00</td>\n",
       "      <td>CemalX9</td>\n",
       "      <td>0</td>\n",
       "      <td>16</td>\n",
       "      <td>6090</td>\n",
       "      <td>False</td>\n",
       "      <td>[[0, 6, Hisse], [7, 11, Hedef], [12, 18, Hisse...</td>\n",
       "    </tr>\n",
       "    <tr>\n",
       "      <th>2</th>\n",
       "      <td>35072</td>\n",
       "      <td>#ykbnk \\nKapanış 4,92 TL\\nGÜÇLÜ YÜKSELİŞ TREND...</td>\n",
       "      <td>2022-06-22 20:53:27+00:00</td>\n",
       "      <td>mesut_al</td>\n",
       "      <td>0</td>\n",
       "      <td>6</td>\n",
       "      <td>12467</td>\n",
       "      <td>False</td>\n",
       "      <td>[[0, 6, Hisse], [60, 67, Destek], [116, 123, H...</td>\n",
       "    </tr>\n",
       "    <tr>\n",
       "      <th>3</th>\n",
       "      <td>35078</td>\n",
       "      <td>Hayırlı sabahlar dostlar,\\n\\n2.597'yi aşmak üz...</td>\n",
       "      <td>2022-06-22 06:59:45+00:00</td>\n",
       "      <td>CemalX9</td>\n",
       "      <td>0</td>\n",
       "      <td>19</td>\n",
       "      <td>6090</td>\n",
       "      <td>False</td>\n",
       "      <td>[[27, 33, Hedef], [70, 76, Hisse], [70, 117, D...</td>\n",
       "    </tr>\n",
       "    <tr>\n",
       "      <th>4</th>\n",
       "      <td>35081</td>\n",
       "      <td>#ykbnk 430 bölgesinde buralardan dönüş beklene...</td>\n",
       "      <td>2022-06-21 08:10:32+00:00</td>\n",
       "      <td>ofegin</td>\n",
       "      <td>1</td>\n",
       "      <td>196</td>\n",
       "      <td>106982</td>\n",
       "      <td>False</td>\n",
       "      <td>[[0, 6, Hisse], [90, 93, Direnç]]</td>\n",
       "    </tr>\n",
       "  </tbody>\n",
       "</table>\n",
       "</div>"
      ],
      "text/plain": [
       "      id                                               text  \\\n",
       "0  35017            #ykbnk \\n\\nDestek : 4,45\\nDirenç  :4,85   \n",
       "1  35058  #ykbnk 3.90\\n#AKBNK 7.70\\n#sahol 18.80\\n#dohol...   \n",
       "2  35072  #ykbnk \\nKapanış 4,92 TL\\nGÜÇLÜ YÜKSELİŞ TREND...   \n",
       "3  35078  Hayırlı sabahlar dostlar,\\n\\n2.597'yi aşmak üz...   \n",
       "4  35081  #ykbnk 430 bölgesinde buralardan dönüş beklene...   \n",
       "\n",
       "                       date         user  rt  fav  followers verified  \\\n",
       "0 2022-07-21 06:08:51+00:00  borsa_adami   1   21       5473    False   \n",
       "1 2022-06-29 14:51:24+00:00      CemalX9   0   16       6090    False   \n",
       "2 2022-06-22 20:53:27+00:00     mesut_al   0    6      12467    False   \n",
       "3 2022-06-22 06:59:45+00:00      CemalX9   0   19       6090    False   \n",
       "4 2022-06-21 08:10:32+00:00       ofegin   1  196     106982    False   \n",
       "\n",
       "                                               label  \n",
       "0  [[0, 7, Hisse], [18, 22, Destek], [32, 36, Dir...  \n",
       "1  [[0, 6, Hisse], [7, 11, Hedef], [12, 18, Hisse...  \n",
       "2  [[0, 6, Hisse], [60, 67, Destek], [116, 123, H...  \n",
       "3  [[27, 33, Hedef], [70, 76, Hisse], [70, 117, D...  \n",
       "4                  [[0, 6, Hisse], [90, 93, Direnç]]  "
      ]
     },
     "execution_count": 151,
     "metadata": {},
     "output_type": "execute_result"
    }
   ],
   "source": [
    "data.head()"
   ]
  },
  {
   "cell_type": "code",
   "execution_count": 110,
   "metadata": {},
   "outputs": [],
   "source": [
    "toDel = []\n",
    "cnt = 0\n",
    "for item in range(len(data.label)):\n",
    "    flag = True\n",
    "    for lbl in data.iloc[item].label:\n",
    "        if(lbl[2] == \"Pozitif Yorum\" or lbl[2] == \"Negatif Yorum\"): \n",
    "            flag = False\n",
    "    if(flag == True):\n",
    "        toDel.append(item)\n"
   ]
  },
  {
   "cell_type": "code",
   "execution_count": 111,
   "metadata": {},
   "outputs": [],
   "source": [
    "data = data.drop(toDel)"
   ]
  },
  {
   "cell_type": "markdown",
   "metadata": {},
   "source": [
    "# Yorum İçermeyen Tweetler Silindi"
   ]
  },
  {
   "cell_type": "code",
   "execution_count": 106,
   "metadata": {},
   "outputs": [
    {
     "data": {
      "text/html": [
       "<div>\n",
       "<style scoped>\n",
       "    .dataframe tbody tr th:only-of-type {\n",
       "        vertical-align: middle;\n",
       "    }\n",
       "\n",
       "    .dataframe tbody tr th {\n",
       "        vertical-align: top;\n",
       "    }\n",
       "\n",
       "    .dataframe thead th {\n",
       "        text-align: right;\n",
       "    }\n",
       "</style>\n",
       "<table border=\"1\" class=\"dataframe\">\n",
       "  <thead>\n",
       "    <tr style=\"text-align: right;\">\n",
       "      <th></th>\n",
       "      <th>id</th>\n",
       "      <th>text</th>\n",
       "      <th>date</th>\n",
       "      <th>user</th>\n",
       "      <th>rt</th>\n",
       "      <th>fav</th>\n",
       "      <th>followers</th>\n",
       "      <th>verified</th>\n",
       "      <th>label</th>\n",
       "    </tr>\n",
       "  </thead>\n",
       "  <tbody>\n",
       "    <tr>\n",
       "      <th>1</th>\n",
       "      <td>35058</td>\n",
       "      <td>#ykbnk 3.90\\n#AKBNK 7.70\\n#sahol 18.80\\n#dohol...</td>\n",
       "      <td>2022-06-29 14:51:24+00:00</td>\n",
       "      <td>CemalX9</td>\n",
       "      <td>0</td>\n",
       "      <td>16</td>\n",
       "      <td>6090</td>\n",
       "      <td>False</td>\n",
       "      <td>[[84, 123, Negatif Yorum], [157, 177, Negatif ...</td>\n",
       "    </tr>\n",
       "    <tr>\n",
       "      <th>2</th>\n",
       "      <td>35072</td>\n",
       "      <td>#ykbnk \\nKapanış 4,92 TL\\nGÜÇLÜ YÜKSELİŞ TREND...</td>\n",
       "      <td>2022-06-22 20:53:27+00:00</td>\n",
       "      <td>mesut_al</td>\n",
       "      <td>0</td>\n",
       "      <td>6</td>\n",
       "      <td>12467</td>\n",
       "      <td>False</td>\n",
       "      <td>[[116, 157, Pozitif Yorum]]</td>\n",
       "    </tr>\n",
       "    <tr>\n",
       "      <th>3</th>\n",
       "      <td>35078</td>\n",
       "      <td>Hayırlı sabahlar dostlar,\\n\\n2.597'yi aşmak üz...</td>\n",
       "      <td>2022-06-22 06:59:45+00:00</td>\n",
       "      <td>CemalX9</td>\n",
       "      <td>0</td>\n",
       "      <td>19</td>\n",
       "      <td>6090</td>\n",
       "      <td>False</td>\n",
       "      <td>[[70, 117, Pozitif Yorum]]</td>\n",
       "    </tr>\n",
       "    <tr>\n",
       "      <th>5</th>\n",
       "      <td>35088</td>\n",
       "      <td>Günaydın dostlar 2542 2578  dirençler 2525 251...</td>\n",
       "      <td>2022-06-20 06:01:04+00:00</td>\n",
       "      <td>Ekonomi__finans</td>\n",
       "      <td>1</td>\n",
       "      <td>19</td>\n",
       "      <td>9286</td>\n",
       "      <td>False</td>\n",
       "      <td>[[80, 101, Pozitif Yorum], [104, 151, Negatif ...</td>\n",
       "    </tr>\n",
       "    <tr>\n",
       "      <th>6</th>\n",
       "      <td>35091</td>\n",
       "      <td>#akbnk 8.67 9.80 ytd #garan 14.65 15.80  #ykbn...</td>\n",
       "      <td>2022-06-19 18:16:31+00:00</td>\n",
       "      <td>Arzu6235</td>\n",
       "      <td>6</td>\n",
       "      <td>152</td>\n",
       "      <td>65859</td>\n",
       "      <td>False</td>\n",
       "      <td>[[183, 217, Pozitif Yorum]]</td>\n",
       "    </tr>\n",
       "  </tbody>\n",
       "</table>\n",
       "</div>"
      ],
      "text/plain": [
       "      id                                               text  \\\n",
       "1  35058  #ykbnk 3.90\\n#AKBNK 7.70\\n#sahol 18.80\\n#dohol...   \n",
       "2  35072  #ykbnk \\nKapanış 4,92 TL\\nGÜÇLÜ YÜKSELİŞ TREND...   \n",
       "3  35078  Hayırlı sabahlar dostlar,\\n\\n2.597'yi aşmak üz...   \n",
       "5  35088  Günaydın dostlar 2542 2578  dirençler 2525 251...   \n",
       "6  35091  #akbnk 8.67 9.80 ytd #garan 14.65 15.80  #ykbn...   \n",
       "\n",
       "                       date             user  rt  fav  followers verified  \\\n",
       "1 2022-06-29 14:51:24+00:00          CemalX9   0   16       6090    False   \n",
       "2 2022-06-22 20:53:27+00:00         mesut_al   0    6      12467    False   \n",
       "3 2022-06-22 06:59:45+00:00          CemalX9   0   19       6090    False   \n",
       "5 2022-06-20 06:01:04+00:00  Ekonomi__finans   1   19       9286    False   \n",
       "6 2022-06-19 18:16:31+00:00         Arzu6235   6  152      65859    False   \n",
       "\n",
       "                                               label  \n",
       "1  [[84, 123, Negatif Yorum], [157, 177, Negatif ...  \n",
       "2                        [[116, 157, Pozitif Yorum]]  \n",
       "3                         [[70, 117, Pozitif Yorum]]  \n",
       "5  [[80, 101, Pozitif Yorum], [104, 151, Negatif ...  \n",
       "6                        [[183, 217, Pozitif Yorum]]  "
      ]
     },
     "execution_count": 106,
     "metadata": {},
     "output_type": "execute_result"
    }
   ],
   "source": [
    "data.head()"
   ]
  },
  {
   "cell_type": "code",
   "execution_count": 105,
   "metadata": {},
   "outputs": [],
   "source": [
    "for item in range(len(data)):\n",
    "    for lbl in data.iloc[item].label:\n",
    "        if(lbl[2] == \"Derece 1\" or lbl[2] == \"Derece 2\" or lbl[2] == \"Derece 3\"): \n",
    "            data.iloc[item].label.remove(lbl)\n",
    "        elif (lbl[2] == \"Destek\" or lbl[2] == \"Direnç\" or lbl[2] == \"Hedef\"):\n",
    "            data.iloc[item].label.remove(lbl)\n",
    "        elif (lbl[2] == \"Vade\" or lbl[2] == \"Hisse\"):\n",
    "            data.iloc[item].label.remove(lbl)"
   ]
  },
  {
   "cell_type": "markdown",
   "metadata": {},
   "source": [
    "# Sadece Pozitif Negatif Yorum Etiketleri Kaldı"
   ]
  },
  {
   "cell_type": "code",
   "execution_count": 107,
   "metadata": {},
   "outputs": [],
   "source": [
    "data.to_json('neg-pos-yorum.jsonl', orient='records', lines=True)"
   ]
  },
  {
   "cell_type": "code",
   "execution_count": 125,
   "metadata": {},
   "outputs": [
    {
     "data": {
      "text/plain": [
       "668"
      ]
     },
     "execution_count": 125,
     "metadata": {},
     "output_type": "execute_result"
    }
   ],
   "source": [
    "len(data)"
   ]
  },
  {
   "cell_type": "code",
   "execution_count": 152,
   "metadata": {},
   "outputs": [
    {
     "data": {
      "text/plain": [
       "664"
      ]
     },
     "execution_count": 152,
     "metadata": {},
     "output_type": "execute_result"
    }
   ],
   "source": [
    "yrm = pd.read_json('/Users/damlakonur/Desktop/bist30-nlp/TokenClassification2/Data/neg-pos-yorum.jsonl', orient='records', lines=True)\n",
    "len(yrm)"
   ]
  },
  {
   "cell_type": "code",
   "execution_count": 153,
   "metadata": {},
   "outputs": [
    {
     "data": {
      "text/html": [
       "<div>\n",
       "<style scoped>\n",
       "    .dataframe tbody tr th:only-of-type {\n",
       "        vertical-align: middle;\n",
       "    }\n",
       "\n",
       "    .dataframe tbody tr th {\n",
       "        vertical-align: top;\n",
       "    }\n",
       "\n",
       "    .dataframe thead th {\n",
       "        text-align: right;\n",
       "    }\n",
       "</style>\n",
       "<table border=\"1\" class=\"dataframe\">\n",
       "  <thead>\n",
       "    <tr style=\"text-align: right;\">\n",
       "      <th></th>\n",
       "      <th>id</th>\n",
       "      <th>text</th>\n",
       "      <th>date</th>\n",
       "      <th>user</th>\n",
       "      <th>rt</th>\n",
       "      <th>fav</th>\n",
       "      <th>followers</th>\n",
       "      <th>verified</th>\n",
       "      <th>label</th>\n",
       "    </tr>\n",
       "  </thead>\n",
       "  <tbody>\n",
       "    <tr>\n",
       "      <th>0</th>\n",
       "      <td>35058</td>\n",
       "      <td>#ykbnk 3.90\\n#AKBNK 7.70\\n#sahol 18.80\\n#dohol...</td>\n",
       "      <td>2022-06-29 14:51:24</td>\n",
       "      <td>CemalX9</td>\n",
       "      <td>0</td>\n",
       "      <td>16</td>\n",
       "      <td>6090</td>\n",
       "      <td>False</td>\n",
       "      <td>[[84, 123, Negatif Yorum], [157, 177, Negatif ...</td>\n",
       "    </tr>\n",
       "    <tr>\n",
       "      <th>1</th>\n",
       "      <td>35072</td>\n",
       "      <td>#ykbnk \\nKapanış 4,92 TL\\nGÜÇLÜ YÜKSELİŞ TREND...</td>\n",
       "      <td>2022-06-22 20:53:27</td>\n",
       "      <td>mesut_al</td>\n",
       "      <td>0</td>\n",
       "      <td>6</td>\n",
       "      <td>12467</td>\n",
       "      <td>False</td>\n",
       "      <td>[[116, 157, Pozitif Yorum]]</td>\n",
       "    </tr>\n",
       "    <tr>\n",
       "      <th>2</th>\n",
       "      <td>35078</td>\n",
       "      <td>Hayırlı sabahlar dostlar,\\n\\n2.597'yi aşmak üz...</td>\n",
       "      <td>2022-06-22 06:59:45</td>\n",
       "      <td>CemalX9</td>\n",
       "      <td>0</td>\n",
       "      <td>19</td>\n",
       "      <td>6090</td>\n",
       "      <td>False</td>\n",
       "      <td>[[70, 117, Pozitif Yorum]]</td>\n",
       "    </tr>\n",
       "    <tr>\n",
       "      <th>3</th>\n",
       "      <td>35088</td>\n",
       "      <td>Günaydın dostlar 2542 2578  dirençler 2525 251...</td>\n",
       "      <td>2022-06-20 06:01:04</td>\n",
       "      <td>Ekonomi__finans</td>\n",
       "      <td>1</td>\n",
       "      <td>19</td>\n",
       "      <td>9286</td>\n",
       "      <td>False</td>\n",
       "      <td>[[80, 101, Pozitif Yorum], [104, 151, Negatif ...</td>\n",
       "    </tr>\n",
       "    <tr>\n",
       "      <th>4</th>\n",
       "      <td>35091</td>\n",
       "      <td>#akbnk 8.67 9.80 ytd #garan 14.65 15.80  #ykbn...</td>\n",
       "      <td>2022-06-19 18:16:31</td>\n",
       "      <td>Arzu6235</td>\n",
       "      <td>6</td>\n",
       "      <td>152</td>\n",
       "      <td>65859</td>\n",
       "      <td>False</td>\n",
       "      <td>[[183, 217, Pozitif Yorum]]</td>\n",
       "    </tr>\n",
       "  </tbody>\n",
       "</table>\n",
       "</div>"
      ],
      "text/plain": [
       "      id                                               text  \\\n",
       "0  35058  #ykbnk 3.90\\n#AKBNK 7.70\\n#sahol 18.80\\n#dohol...   \n",
       "1  35072  #ykbnk \\nKapanış 4,92 TL\\nGÜÇLÜ YÜKSELİŞ TREND...   \n",
       "2  35078  Hayırlı sabahlar dostlar,\\n\\n2.597'yi aşmak üz...   \n",
       "3  35088  Günaydın dostlar 2542 2578  dirençler 2525 251...   \n",
       "4  35091  #akbnk 8.67 9.80 ytd #garan 14.65 15.80  #ykbn...   \n",
       "\n",
       "                 date             user  rt  fav  followers verified  \\\n",
       "0 2022-06-29 14:51:24          CemalX9   0   16       6090    False   \n",
       "1 2022-06-22 20:53:27         mesut_al   0    6      12467    False   \n",
       "2 2022-06-22 06:59:45          CemalX9   0   19       6090    False   \n",
       "3 2022-06-20 06:01:04  Ekonomi__finans   1   19       9286    False   \n",
       "4 2022-06-19 18:16:31         Arzu6235   6  152      65859    False   \n",
       "\n",
       "                                               label  \n",
       "0  [[84, 123, Negatif Yorum], [157, 177, Negatif ...  \n",
       "1                        [[116, 157, Pozitif Yorum]]  \n",
       "2                         [[70, 117, Pozitif Yorum]]  \n",
       "3  [[80, 101, Pozitif Yorum], [104, 151, Negatif ...  \n",
       "4                        [[183, 217, Pozitif Yorum]]  "
      ]
     },
     "execution_count": 153,
     "metadata": {},
     "output_type": "execute_result"
    }
   ],
   "source": [
    "yrm.head()"
   ]
  },
  {
   "cell_type": "code",
   "execution_count": 158,
   "metadata": {},
   "outputs": [
    {
     "data": {
      "text/plain": [
       "'Kaşıkla toplayanlar kepçe ile verecek 😒'"
      ]
     },
     "execution_count": 158,
     "metadata": {},
     "output_type": "execute_result"
    }
   ],
   "source": [
    "yrm.iloc[0].text[84:123]"
   ]
  },
  {
   "cell_type": "code",
   "execution_count": 165,
   "metadata": {},
   "outputs": [],
   "source": [
    "# new data frame \n",
    "new_data = pd.DataFrame(columns=['text', 'label'], index=range(810))\n",
    "dict = []\n",
    "for item in range(len(yrm)):\n",
    "    for lbl in yrm.iloc[item].label:\n",
    "        dict.append({'text' : yrm.iloc[item].text[lbl[0]:lbl[1]], 'label' : lbl[2]})\n",
    "\n",
    "new_data = pd.DataFrame(dict)"
   ]
  },
  {
   "cell_type": "code",
   "execution_count": 169,
   "metadata": {},
   "outputs": [
    {
     "data": {
      "text/plain": [
       "(680, 131)"
      ]
     },
     "execution_count": 169,
     "metadata": {},
     "output_type": "execute_result"
    }
   ],
   "source": [
    "len(new_data[new_data['label'] == 'Pozitif Yorum']), len(new_data[new_data['label'] == 'Negatif Yorum'])"
   ]
  },
  {
   "cell_type": "code",
   "execution_count": 170,
   "metadata": {},
   "outputs": [
    {
     "data": {
      "text/html": [
       "<div>\n",
       "<style scoped>\n",
       "    .dataframe tbody tr th:only-of-type {\n",
       "        vertical-align: middle;\n",
       "    }\n",
       "\n",
       "    .dataframe tbody tr th {\n",
       "        vertical-align: top;\n",
       "    }\n",
       "\n",
       "    .dataframe thead th {\n",
       "        text-align: right;\n",
       "    }\n",
       "</style>\n",
       "<table border=\"1\" class=\"dataframe\">\n",
       "  <thead>\n",
       "    <tr style=\"text-align: right;\">\n",
       "      <th></th>\n",
       "      <th>text</th>\n",
       "      <th>label</th>\n",
       "    </tr>\n",
       "  </thead>\n",
       "  <tbody>\n",
       "    <tr>\n",
       "      <th>0</th>\n",
       "      <td>Kaşıkla toplayanlar kepçe ile verecek 😒</td>\n",
       "      <td>Negatif Yorum</td>\n",
       "    </tr>\n",
       "    <tr>\n",
       "      <th>1</th>\n",
       "      <td>çok ucuzlamış olacak</td>\n",
       "      <td>Negatif Yorum</td>\n",
       "    </tr>\n",
       "    <tr>\n",
       "      <th>2</th>\n",
       "      <td>5,22 TL'yi test ihtimali yüksek bulunuyor</td>\n",
       "      <td>Pozitif Yorum</td>\n",
       "    </tr>\n",
       "    <tr>\n",
       "      <th>3</th>\n",
       "      <td>#akbnk ve #ykbnk lçin güzel bir gün olacak yine</td>\n",
       "      <td>Pozitif Yorum</td>\n",
       "    </tr>\n",
       "    <tr>\n",
       "      <th>4</th>\n",
       "      <td>üzeri ayılar düşünsün</td>\n",
       "      <td>Pozitif Yorum</td>\n",
       "    </tr>\n",
       "  </tbody>\n",
       "</table>\n",
       "</div>"
      ],
      "text/plain": [
       "                                              text          label\n",
       "0          Kaşıkla toplayanlar kepçe ile verecek 😒  Negatif Yorum\n",
       "1                             çok ucuzlamış olacak  Negatif Yorum\n",
       "2        5,22 TL'yi test ihtimali yüksek bulunuyor  Pozitif Yorum\n",
       "3  #akbnk ve #ykbnk lçin güzel bir gün olacak yine  Pozitif Yorum\n",
       "4                            üzeri ayılar düşünsün  Pozitif Yorum"
      ]
     },
     "execution_count": 170,
     "metadata": {},
     "output_type": "execute_result"
    }
   ],
   "source": [
    "new_data.head()"
   ]
  },
  {
   "cell_type": "code",
   "execution_count": 171,
   "metadata": {},
   "outputs": [
    {
     "data": {
      "text/plain": [
       "(131, 680)"
      ]
     },
     "execution_count": 171,
     "metadata": {},
     "output_type": "execute_result"
    }
   ],
   "source": [
    "# take equal number of Negatif and Pozitif Yorum\n",
    "neg_data = new_data[new_data['label'] == 'Negatif Yorum']\n",
    "pos_data = new_data[new_data['label'] == 'Pozitif Yorum']\n",
    "len(neg_data), len(pos_data)"
   ]
  },
  {
   "cell_type": "code",
   "execution_count": 172,
   "metadata": {},
   "outputs": [],
   "source": [
    "pos_data = pos_data.sample(n=len(neg_data))"
   ]
  },
  {
   "cell_type": "code",
   "execution_count": 173,
   "metadata": {},
   "outputs": [
    {
     "data": {
      "text/plain": [
       "(131, 131)"
      ]
     },
     "execution_count": 173,
     "metadata": {},
     "output_type": "execute_result"
    }
   ],
   "source": [
    "len(neg_data), len(pos_data)"
   ]
  },
  {
   "cell_type": "code",
   "execution_count": 174,
   "metadata": {},
   "outputs": [],
   "source": [
    "ndf = pd.concat([neg_data, pos_data])"
   ]
  },
  {
   "cell_type": "markdown",
   "metadata": {},
   "source": []
  },
  {
   "cell_type": "code",
   "execution_count": 176,
   "metadata": {},
   "outputs": [],
   "source": [
    "ndf.to_csv('SentimentAnalysis/Data/b_data.csv', index=False)"
   ]
  },
  {
   "cell_type": "code",
   "execution_count": 178,
   "metadata": {},
   "outputs": [],
   "source": [
    "new_data.to_csv('SentimentAnalysis/Data/im_data.csv', index=False)"
   ]
  },
  {
   "cell_type": "code",
   "execution_count": 119,
   "metadata": {},
   "outputs": [],
   "source": [
    "for item in range(len(data)):\n",
    "    for lbl in data.iloc[item].label:\n",
    "        if(lbl[2] == \"Pozitif Yorum\" or lbl[2] == \"Negatif Yorum\"): \n",
    "            data.iloc[item].label.remove(lbl)\n",
    "        elif (lbl[2] == \"Destek\" or lbl[2] == \"Direnç\" or lbl[2] == \"Hedef\"):\n",
    "            data.iloc[item].label.remove(lbl)\n",
    "        elif (lbl[2] == \"Vade\" or lbl[2] == \"Hisse\"):\n",
    "            data.iloc[item].label.remove(lbl)"
   ]
  },
  {
   "cell_type": "code",
   "execution_count": 120,
   "metadata": {},
   "outputs": [
    {
     "data": {
      "text/html": [
       "<div>\n",
       "<style scoped>\n",
       "    .dataframe tbody tr th:only-of-type {\n",
       "        vertical-align: middle;\n",
       "    }\n",
       "\n",
       "    .dataframe tbody tr th {\n",
       "        vertical-align: top;\n",
       "    }\n",
       "\n",
       "    .dataframe thead th {\n",
       "        text-align: right;\n",
       "    }\n",
       "</style>\n",
       "<table border=\"1\" class=\"dataframe\">\n",
       "  <thead>\n",
       "    <tr style=\"text-align: right;\">\n",
       "      <th></th>\n",
       "      <th>id</th>\n",
       "      <th>text</th>\n",
       "      <th>date</th>\n",
       "      <th>user</th>\n",
       "      <th>rt</th>\n",
       "      <th>fav</th>\n",
       "      <th>followers</th>\n",
       "      <th>verified</th>\n",
       "      <th>label</th>\n",
       "    </tr>\n",
       "  </thead>\n",
       "  <tbody>\n",
       "    <tr>\n",
       "      <th>1</th>\n",
       "      <td>35058</td>\n",
       "      <td>#ykbnk 3.90\\n#AKBNK 7.70\\n#sahol 18.80\\n#dohol...</td>\n",
       "      <td>2022-06-29 14:51:24+00:00</td>\n",
       "      <td>CemalX9</td>\n",
       "      <td>0</td>\n",
       "      <td>16</td>\n",
       "      <td>6090</td>\n",
       "      <td>False</td>\n",
       "      <td>[[84, 123, Derece 3], [157, 177, Derece 3]]</td>\n",
       "    </tr>\n",
       "    <tr>\n",
       "      <th>2</th>\n",
       "      <td>35072</td>\n",
       "      <td>#ykbnk \\nKapanış 4,92 TL\\nGÜÇLÜ YÜKSELİŞ TREND...</td>\n",
       "      <td>2022-06-22 20:53:27+00:00</td>\n",
       "      <td>mesut_al</td>\n",
       "      <td>0</td>\n",
       "      <td>6</td>\n",
       "      <td>12467</td>\n",
       "      <td>False</td>\n",
       "      <td>[[116, 157, Derece 2]]</td>\n",
       "    </tr>\n",
       "    <tr>\n",
       "      <th>3</th>\n",
       "      <td>35078</td>\n",
       "      <td>Hayırlı sabahlar dostlar,\\n\\n2.597'yi aşmak üz...</td>\n",
       "      <td>2022-06-22 06:59:45+00:00</td>\n",
       "      <td>CemalX9</td>\n",
       "      <td>0</td>\n",
       "      <td>19</td>\n",
       "      <td>6090</td>\n",
       "      <td>False</td>\n",
       "      <td>[[70, 117, Derece 1]]</td>\n",
       "    </tr>\n",
       "    <tr>\n",
       "      <th>5</th>\n",
       "      <td>35088</td>\n",
       "      <td>Günaydın dostlar 2542 2578  dirençler 2525 251...</td>\n",
       "      <td>2022-06-20 06:01:04+00:00</td>\n",
       "      <td>Ekonomi__finans</td>\n",
       "      <td>1</td>\n",
       "      <td>19</td>\n",
       "      <td>9286</td>\n",
       "      <td>False</td>\n",
       "      <td>[[80, 101, Derece 2], [104, 151, Derece 2]]</td>\n",
       "    </tr>\n",
       "    <tr>\n",
       "      <th>6</th>\n",
       "      <td>35091</td>\n",
       "      <td>#akbnk 8.67 9.80 ytd #garan 14.65 15.80  #ykbn...</td>\n",
       "      <td>2022-06-19 18:16:31+00:00</td>\n",
       "      <td>Arzu6235</td>\n",
       "      <td>6</td>\n",
       "      <td>152</td>\n",
       "      <td>65859</td>\n",
       "      <td>False</td>\n",
       "      <td>[[183, 217, Derece 1]]</td>\n",
       "    </tr>\n",
       "  </tbody>\n",
       "</table>\n",
       "</div>"
      ],
      "text/plain": [
       "      id                                               text  \\\n",
       "1  35058  #ykbnk 3.90\\n#AKBNK 7.70\\n#sahol 18.80\\n#dohol...   \n",
       "2  35072  #ykbnk \\nKapanış 4,92 TL\\nGÜÇLÜ YÜKSELİŞ TREND...   \n",
       "3  35078  Hayırlı sabahlar dostlar,\\n\\n2.597'yi aşmak üz...   \n",
       "5  35088  Günaydın dostlar 2542 2578  dirençler 2525 251...   \n",
       "6  35091  #akbnk 8.67 9.80 ytd #garan 14.65 15.80  #ykbn...   \n",
       "\n",
       "                       date             user  rt  fav  followers verified  \\\n",
       "1 2022-06-29 14:51:24+00:00          CemalX9   0   16       6090    False   \n",
       "2 2022-06-22 20:53:27+00:00         mesut_al   0    6      12467    False   \n",
       "3 2022-06-22 06:59:45+00:00          CemalX9   0   19       6090    False   \n",
       "5 2022-06-20 06:01:04+00:00  Ekonomi__finans   1   19       9286    False   \n",
       "6 2022-06-19 18:16:31+00:00         Arzu6235   6  152      65859    False   \n",
       "\n",
       "                                         label  \n",
       "1  [[84, 123, Derece 3], [157, 177, Derece 3]]  \n",
       "2                       [[116, 157, Derece 2]]  \n",
       "3                        [[70, 117, Derece 1]]  \n",
       "5  [[80, 101, Derece 2], [104, 151, Derece 2]]  \n",
       "6                       [[183, 217, Derece 1]]  "
      ]
     },
     "execution_count": 120,
     "metadata": {},
     "output_type": "execute_result"
    }
   ],
   "source": [
    "data.head()"
   ]
  },
  {
   "cell_type": "code",
   "execution_count": 128,
   "metadata": {},
   "outputs": [],
   "source": [
    "p = pd.read_json('/Users/damlakonur/Desktop/bist30-nlp/MultiClassClassification/Data/dereceler.jsonl', orient='records', lines=True)"
   ]
  },
  {
   "cell_type": "code",
   "execution_count": 129,
   "metadata": {},
   "outputs": [
    {
     "data": {
      "text/plain": [
       "664"
      ]
     },
     "execution_count": 129,
     "metadata": {},
     "output_type": "execute_result"
    }
   ],
   "source": [
    "len(p)"
   ]
  },
  {
   "cell_type": "code",
   "execution_count": 145,
   "metadata": {},
   "outputs": [],
   "source": [
    "new_pd = pd.read_json('/Users/damlakonur/Desktop/bist30-nlp/TokenClassification2/Data/neg-pos-yorum.jsonl', orient='records', lines=True)"
   ]
  },
  {
   "cell_type": "code",
   "execution_count": 141,
   "metadata": {},
   "outputs": [
    {
     "data": {
      "text/html": [
       "<div>\n",
       "<style scoped>\n",
       "    .dataframe tbody tr th:only-of-type {\n",
       "        vertical-align: middle;\n",
       "    }\n",
       "\n",
       "    .dataframe tbody tr th {\n",
       "        vertical-align: top;\n",
       "    }\n",
       "\n",
       "    .dataframe thead th {\n",
       "        text-align: right;\n",
       "    }\n",
       "</style>\n",
       "<table border=\"1\" class=\"dataframe\">\n",
       "  <thead>\n",
       "    <tr style=\"text-align: right;\">\n",
       "      <th></th>\n",
       "      <th>id</th>\n",
       "      <th>text</th>\n",
       "      <th>date</th>\n",
       "      <th>user</th>\n",
       "      <th>rt</th>\n",
       "      <th>fav</th>\n",
       "      <th>followers</th>\n",
       "      <th>verified</th>\n",
       "      <th>label</th>\n",
       "    </tr>\n",
       "  </thead>\n",
       "  <tbody>\n",
       "    <tr>\n",
       "      <th>0</th>\n",
       "      <td>35058</td>\n",
       "      <td>#ykbnk 3.90\\n#AKBNK 7.70\\n#sahol 18.80\\n#dohol...</td>\n",
       "      <td>2022-06-29 14:51:24</td>\n",
       "      <td>CemalX9</td>\n",
       "      <td>0</td>\n",
       "      <td>16</td>\n",
       "      <td>6090</td>\n",
       "      <td>False</td>\n",
       "      <td>[[84, 123, Negatif Yorum], [157, 177, Negatif ...</td>\n",
       "    </tr>\n",
       "    <tr>\n",
       "      <th>1</th>\n",
       "      <td>35072</td>\n",
       "      <td>#ykbnk \\nKapanış 4,92 TL\\nGÜÇLÜ YÜKSELİŞ TREND...</td>\n",
       "      <td>2022-06-22 20:53:27</td>\n",
       "      <td>mesut_al</td>\n",
       "      <td>0</td>\n",
       "      <td>6</td>\n",
       "      <td>12467</td>\n",
       "      <td>False</td>\n",
       "      <td>[[116, 157, Pozitif Yorum]]</td>\n",
       "    </tr>\n",
       "    <tr>\n",
       "      <th>2</th>\n",
       "      <td>35078</td>\n",
       "      <td>Hayırlı sabahlar dostlar,\\n\\n2.597'yi aşmak üz...</td>\n",
       "      <td>2022-06-22 06:59:45</td>\n",
       "      <td>CemalX9</td>\n",
       "      <td>0</td>\n",
       "      <td>19</td>\n",
       "      <td>6090</td>\n",
       "      <td>False</td>\n",
       "      <td>[[70, 117, Pozitif Yorum]]</td>\n",
       "    </tr>\n",
       "    <tr>\n",
       "      <th>3</th>\n",
       "      <td>35088</td>\n",
       "      <td>Günaydın dostlar 2542 2578  dirençler 2525 251...</td>\n",
       "      <td>2022-06-20 06:01:04</td>\n",
       "      <td>Ekonomi__finans</td>\n",
       "      <td>1</td>\n",
       "      <td>19</td>\n",
       "      <td>9286</td>\n",
       "      <td>False</td>\n",
       "      <td>[[80, 101, Pozitif Yorum], [104, 151, Negatif ...</td>\n",
       "    </tr>\n",
       "    <tr>\n",
       "      <th>4</th>\n",
       "      <td>35091</td>\n",
       "      <td>#akbnk 8.67 9.80 ytd #garan 14.65 15.80  #ykbn...</td>\n",
       "      <td>2022-06-19 18:16:31</td>\n",
       "      <td>Arzu6235</td>\n",
       "      <td>6</td>\n",
       "      <td>152</td>\n",
       "      <td>65859</td>\n",
       "      <td>False</td>\n",
       "      <td>[[183, 217, Pozitif Yorum]]</td>\n",
       "    </tr>\n",
       "  </tbody>\n",
       "</table>\n",
       "</div>"
      ],
      "text/plain": [
       "      id                                               text  \\\n",
       "0  35058  #ykbnk 3.90\\n#AKBNK 7.70\\n#sahol 18.80\\n#dohol...   \n",
       "1  35072  #ykbnk \\nKapanış 4,92 TL\\nGÜÇLÜ YÜKSELİŞ TREND...   \n",
       "2  35078  Hayırlı sabahlar dostlar,\\n\\n2.597'yi aşmak üz...   \n",
       "3  35088  Günaydın dostlar 2542 2578  dirençler 2525 251...   \n",
       "4  35091  #akbnk 8.67 9.80 ytd #garan 14.65 15.80  #ykbn...   \n",
       "\n",
       "                 date             user  rt  fav  followers verified  \\\n",
       "0 2022-06-29 14:51:24          CemalX9   0   16       6090    False   \n",
       "1 2022-06-22 20:53:27         mesut_al   0    6      12467    False   \n",
       "2 2022-06-22 06:59:45          CemalX9   0   19       6090    False   \n",
       "3 2022-06-20 06:01:04  Ekonomi__finans   1   19       9286    False   \n",
       "4 2022-06-19 18:16:31         Arzu6235   6  152      65859    False   \n",
       "\n",
       "                                               label  \n",
       "0  [[84, 123, Negatif Yorum], [157, 177, Negatif ...  \n",
       "1                        [[116, 157, Pozitif Yorum]]  \n",
       "2                         [[70, 117, Pozitif Yorum]]  \n",
       "3  [[80, 101, Pozitif Yorum], [104, 151, Negatif ...  \n",
       "4                        [[183, 217, Pozitif Yorum]]  "
      ]
     },
     "execution_count": 141,
     "metadata": {},
     "output_type": "execute_result"
    }
   ],
   "source": [
    "new_pd.head()"
   ]
  },
  {
   "cell_type": "code",
   "execution_count": 142,
   "metadata": {},
   "outputs": [
    {
     "data": {
      "text/plain": [
       "664"
      ]
     },
     "execution_count": 142,
     "metadata": {},
     "output_type": "execute_result"
    }
   ],
   "source": [
    "len(new_pd)"
   ]
  },
  {
   "cell_type": "code",
   "execution_count": 146,
   "metadata": {},
   "outputs": [],
   "source": [
    "for i in range(len(new_pd)):\n",
    "    for label in new_pd.iloc[i].label:\n",
    "        if(label[2] == \"Pozitif Yorum\" or label[2] == \"Negatif Yorum\"):\n",
    "            label[2]= \"Tahmin\""
   ]
  },
  {
   "cell_type": "code",
   "execution_count": 147,
   "metadata": {},
   "outputs": [
    {
     "data": {
      "text/html": [
       "<div>\n",
       "<style scoped>\n",
       "    .dataframe tbody tr th:only-of-type {\n",
       "        vertical-align: middle;\n",
       "    }\n",
       "\n",
       "    .dataframe tbody tr th {\n",
       "        vertical-align: top;\n",
       "    }\n",
       "\n",
       "    .dataframe thead th {\n",
       "        text-align: right;\n",
       "    }\n",
       "</style>\n",
       "<table border=\"1\" class=\"dataframe\">\n",
       "  <thead>\n",
       "    <tr style=\"text-align: right;\">\n",
       "      <th></th>\n",
       "      <th>id</th>\n",
       "      <th>text</th>\n",
       "      <th>date</th>\n",
       "      <th>user</th>\n",
       "      <th>rt</th>\n",
       "      <th>fav</th>\n",
       "      <th>followers</th>\n",
       "      <th>verified</th>\n",
       "      <th>label</th>\n",
       "    </tr>\n",
       "  </thead>\n",
       "  <tbody>\n",
       "    <tr>\n",
       "      <th>0</th>\n",
       "      <td>35058</td>\n",
       "      <td>#ykbnk 3.90\\n#AKBNK 7.70\\n#sahol 18.80\\n#dohol...</td>\n",
       "      <td>2022-06-29 14:51:24</td>\n",
       "      <td>CemalX9</td>\n",
       "      <td>0</td>\n",
       "      <td>16</td>\n",
       "      <td>6090</td>\n",
       "      <td>False</td>\n",
       "      <td>[[84, 123, Tahmin], [157, 177, Tahmin]]</td>\n",
       "    </tr>\n",
       "    <tr>\n",
       "      <th>1</th>\n",
       "      <td>35072</td>\n",
       "      <td>#ykbnk \\nKapanış 4,92 TL\\nGÜÇLÜ YÜKSELİŞ TREND...</td>\n",
       "      <td>2022-06-22 20:53:27</td>\n",
       "      <td>mesut_al</td>\n",
       "      <td>0</td>\n",
       "      <td>6</td>\n",
       "      <td>12467</td>\n",
       "      <td>False</td>\n",
       "      <td>[[116, 157, Tahmin]]</td>\n",
       "    </tr>\n",
       "    <tr>\n",
       "      <th>2</th>\n",
       "      <td>35078</td>\n",
       "      <td>Hayırlı sabahlar dostlar,\\n\\n2.597'yi aşmak üz...</td>\n",
       "      <td>2022-06-22 06:59:45</td>\n",
       "      <td>CemalX9</td>\n",
       "      <td>0</td>\n",
       "      <td>19</td>\n",
       "      <td>6090</td>\n",
       "      <td>False</td>\n",
       "      <td>[[70, 117, Tahmin]]</td>\n",
       "    </tr>\n",
       "    <tr>\n",
       "      <th>3</th>\n",
       "      <td>35088</td>\n",
       "      <td>Günaydın dostlar 2542 2578  dirençler 2525 251...</td>\n",
       "      <td>2022-06-20 06:01:04</td>\n",
       "      <td>Ekonomi__finans</td>\n",
       "      <td>1</td>\n",
       "      <td>19</td>\n",
       "      <td>9286</td>\n",
       "      <td>False</td>\n",
       "      <td>[[80, 101, Tahmin], [104, 151, Tahmin]]</td>\n",
       "    </tr>\n",
       "    <tr>\n",
       "      <th>4</th>\n",
       "      <td>35091</td>\n",
       "      <td>#akbnk 8.67 9.80 ytd #garan 14.65 15.80  #ykbn...</td>\n",
       "      <td>2022-06-19 18:16:31</td>\n",
       "      <td>Arzu6235</td>\n",
       "      <td>6</td>\n",
       "      <td>152</td>\n",
       "      <td>65859</td>\n",
       "      <td>False</td>\n",
       "      <td>[[183, 217, Tahmin]]</td>\n",
       "    </tr>\n",
       "  </tbody>\n",
       "</table>\n",
       "</div>"
      ],
      "text/plain": [
       "      id                                               text  \\\n",
       "0  35058  #ykbnk 3.90\\n#AKBNK 7.70\\n#sahol 18.80\\n#dohol...   \n",
       "1  35072  #ykbnk \\nKapanış 4,92 TL\\nGÜÇLÜ YÜKSELİŞ TREND...   \n",
       "2  35078  Hayırlı sabahlar dostlar,\\n\\n2.597'yi aşmak üz...   \n",
       "3  35088  Günaydın dostlar 2542 2578  dirençler 2525 251...   \n",
       "4  35091  #akbnk 8.67 9.80 ytd #garan 14.65 15.80  #ykbn...   \n",
       "\n",
       "                 date             user  rt  fav  followers verified  \\\n",
       "0 2022-06-29 14:51:24          CemalX9   0   16       6090    False   \n",
       "1 2022-06-22 20:53:27         mesut_al   0    6      12467    False   \n",
       "2 2022-06-22 06:59:45          CemalX9   0   19       6090    False   \n",
       "3 2022-06-20 06:01:04  Ekonomi__finans   1   19       9286    False   \n",
       "4 2022-06-19 18:16:31         Arzu6235   6  152      65859    False   \n",
       "\n",
       "                                     label  \n",
       "0  [[84, 123, Tahmin], [157, 177, Tahmin]]  \n",
       "1                     [[116, 157, Tahmin]]  \n",
       "2                      [[70, 117, Tahmin]]  \n",
       "3  [[80, 101, Tahmin], [104, 151, Tahmin]]  \n",
       "4                     [[183, 217, Tahmin]]  "
      ]
     },
     "execution_count": 147,
     "metadata": {},
     "output_type": "execute_result"
    }
   ],
   "source": [
    "new_pd.head()"
   ]
  },
  {
   "cell_type": "code",
   "execution_count": 148,
   "metadata": {},
   "outputs": [],
   "source": [
    "new_pd.to_json('/Users/damlakonur/Desktop/bist30-nlp/TokenClassification3/Data/tahmni.jsonl', orient='records', lines=True)"
   ]
  },
  {
   "cell_type": "code",
   "execution_count": 1,
   "metadata": {},
   "outputs": [],
   "source": [
    "a = [{'entity_group': ' Hisse', 'score': 0.9989579, 'word': '# xu100', 'start': 0, 'end': 6}, {'entity_group': ' O', 'score': 0.967899, 'word': '2. 510 piyasalarda bunaltıcı sıcak suruyor, terlemeye devam abd enflasyonu ve fed faiz artısı beklentisiyle. bu beklenti oyle veya boyle gerceklestiginde', 'start': 7, 'end': 161}, {'entity_group': ' Vade', 'score': 0.9516572, 'word': 'kısa vadeli', 'start': 162, 'end': 173}, {'entity_group': ' O', 'score': 0.8718208, 'word': 'belirsizlik biter. endeks 2. 516 puan', 'start': 174, 'end': 212}, {'entity_group': ' Direnç', 'score': 0.6088213, 'word': '21', 'start': 213, 'end': 215}, {'entity_group': ' O', 'score': 0.9392618, 'word': '##ema uzerine atarsa rahatlar. bu seviye altında', 'start': 215, 'end': 261}, {'entity_group': ' Destek', 'score': 0.9969651, 'word': '2. 420', 'start': 262, 'end': 267}, {'entity_group': ' O', 'score': 0.9951021, 'word': 'destegi var.', 'start': 268, 'end': 280}]"
   ]
  },
  {
   "cell_type": "code",
   "execution_count": 5,
   "metadata": {},
   "outputs": [
    {
     "data": {
      "text/plain": [
       "{'entity_group': ' Hisse',\n",
       " 'score': 0.9989579,\n",
       " 'word': '# xu100',\n",
       " 'start': 0,\n",
       " 'end': 6}"
      ]
     },
     "execution_count": 5,
     "metadata": {},
     "output_type": "execute_result"
    }
   ],
   "source": [
    "a[0]"
   ]
  },
  {
   "cell_type": "code",
   "execution_count": 6,
   "metadata": {},
   "outputs": [
    {
     "name": "stdout",
     "output_type": "stream",
     "text": [
      "aaaaaaa\n"
     ]
    }
   ],
   "source": [
    "\n",
    "for index in range(len(a)):\n",
    "    for key in a[index]:\n",
    "        #print(key)\n",
    "        if(a[index][key] == ' Hisse'):\n",
    "            print('aaaaaaa')\n",
    "                "
   ]
  },
  {
   "cell_type": "code",
   "execution_count": 19,
   "metadata": {},
   "outputs": [
    {
     "data": {
      "text/plain": [
       "{'entity_group': ' Hisse',\n",
       " 'score': 0.9989579,\n",
       " 'word': '# xu100',\n",
       " 'start': 0,\n",
       " 'end': 6}"
      ]
     },
     "execution_count": 19,
     "metadata": {},
     "output_type": "execute_result"
    }
   ],
   "source": [
    "a[0]"
   ]
  },
  {
   "cell_type": "code",
   "execution_count": 21,
   "metadata": {},
   "outputs": [
    {
     "data": {
      "text/plain": [
       "'0.9989579'"
      ]
     },
     "execution_count": 21,
     "metadata": {},
     "output_type": "execute_result"
    }
   ],
   "source": [
    "str(a[0]['score'])"
   ]
  },
  {
   "cell_type": "code",
   "execution_count": 16,
   "metadata": {},
   "outputs": [
    {
     "data": {
      "text/plain": [
       "'# xu100'"
      ]
     },
     "execution_count": 16,
     "metadata": {},
     "output_type": "execute_result"
    }
   ],
   "source": [
    "a[0]['word']"
   ]
  },
  {
   "cell_type": "code",
   "execution_count": 18,
   "metadata": {},
   "outputs": [
    {
     "name": "stdout",
     "output_type": "stream",
     "text": [
      "<class 'str'>\n",
      "<class 'float'>\n",
      "<class 'str'>\n",
      "<class 'int'>\n",
      "<class 'int'>\n",
      "<class 'str'>\n",
      "<class 'float'>\n",
      "<class 'str'>\n",
      "<class 'int'>\n",
      "<class 'int'>\n",
      "<class 'str'>\n",
      "<class 'float'>\n",
      "<class 'str'>\n",
      "<class 'int'>\n",
      "<class 'int'>\n",
      "<class 'str'>\n",
      "<class 'float'>\n",
      "<class 'str'>\n",
      "<class 'int'>\n",
      "<class 'int'>\n",
      "<class 'str'>\n",
      "<class 'float'>\n",
      "<class 'str'>\n",
      "<class 'int'>\n",
      "<class 'int'>\n",
      "<class 'str'>\n",
      "<class 'float'>\n",
      "<class 'str'>\n",
      "<class 'int'>\n",
      "<class 'int'>\n",
      "<class 'str'>\n",
      "<class 'float'>\n",
      "<class 'str'>\n",
      "<class 'int'>\n",
      "<class 'int'>\n",
      "<class 'str'>\n",
      "<class 'float'>\n",
      "<class 'str'>\n",
      "<class 'int'>\n",
      "<class 'int'>\n"
     ]
    }
   ],
   "source": [
    "for i in range(len(a)):\n",
    "    for key in a[i]:\n",
    "        print(type(a[i][key]))"
   ]
  },
  {
   "cell_type": "code",
   "execution_count": 1,
   "metadata": {},
   "outputs": [
    {
     "name": "stderr",
     "output_type": "stream",
     "text": [
      "2022-08-13 21:34:00.150441: I tensorflow/core/platform/cpu_feature_guard.cc:151] This TensorFlow binary is optimized with oneAPI Deep Neural Network Library (oneDNN) to use the following CPU instructions in performance-critical operations:  AVX2 FMA\n",
      "To enable them in other operations, rebuild TensorFlow with the appropriate compiler flags.\n"
     ]
    }
   ],
   "source": [
    "import evaluate \n",
    "import pandas as pd\n",
    "import numpy as np\n",
    "import matplotlib.pyplot as plt\n",
    "import datasets\n",
    "from sklearn.model_selection import train_test_split\n",
    "from transformers import BertTokenizerFast, BertForSequenceClassification\n",
    "from transformers import DataCollatorForTokenClassification\n",
    "from datasets import load_dataset\n",
    "from transformers import AutoModelForTokenClassification\n",
    "from transformers import TrainingArguments\n",
    "from transformers import Trainer\n",
    "from transformers import pipeline\n",
    "from seqeval.metrics import classification_report"
   ]
  },
  {
   "cell_type": "code",
   "execution_count": 2,
   "metadata": {},
   "outputs": [],
   "source": [
    "df = pd.read_csv('/Users/damlakonur/Desktop/bist30-nlp/BinaryClassification/data/dataset.csv')"
   ]
  },
  {
   "cell_type": "code",
   "execution_count": 5,
   "metadata": {},
   "outputs": [
    {
     "data": {
      "text/html": [
       "<div>\n",
       "<style scoped>\n",
       "    .dataframe tbody tr th:only-of-type {\n",
       "        vertical-align: middle;\n",
       "    }\n",
       "\n",
       "    .dataframe tbody tr th {\n",
       "        vertical-align: top;\n",
       "    }\n",
       "\n",
       "    .dataframe thead th {\n",
       "        text-align: right;\n",
       "    }\n",
       "</style>\n",
       "<table border=\"1\" class=\"dataframe\">\n",
       "  <thead>\n",
       "    <tr style=\"text-align: right;\">\n",
       "      <th></th>\n",
       "      <th>id</th>\n",
       "      <th>text</th>\n",
       "      <th>date</th>\n",
       "      <th>user</th>\n",
       "      <th>rt</th>\n",
       "      <th>fav</th>\n",
       "      <th>followers</th>\n",
       "      <th>verified</th>\n",
       "      <th>label</th>\n",
       "    </tr>\n",
       "  </thead>\n",
       "  <tbody>\n",
       "    <tr>\n",
       "      <th>0</th>\n",
       "      <td>221222</td>\n",
       "      <td>Bloomberg Businessweek’in 3 Temmuz tarihli öze...</td>\n",
       "      <td>2022-07-10 10:16:06+00:00</td>\n",
       "      <td>ibrahim___ethem</td>\n",
       "      <td>20</td>\n",
       "      <td>343</td>\n",
       "      <td>136873</td>\n",
       "      <td>False</td>\n",
       "      <td>Gerçek</td>\n",
       "    </tr>\n",
       "    <tr>\n",
       "      <th>1</th>\n",
       "      <td>221223</td>\n",
       "      <td>en UCUZ #BIST 100 #hisse'leri\\n#SAHOL 18,68&amp;gt...</td>\n",
       "      <td>2022-07-09 20:53:12+00:00</td>\n",
       "      <td>ASIM_YALCINKAYA</td>\n",
       "      <td>107</td>\n",
       "      <td>934</td>\n",
       "      <td>138759</td>\n",
       "      <td>False</td>\n",
       "      <td>Gerçek</td>\n",
       "    </tr>\n",
       "    <tr>\n",
       "      <th>2</th>\n",
       "      <td>221225</td>\n",
       "      <td>📍İstanbul Havalimanı dün tarihinin en yüksek u...</td>\n",
       "      <td>2022-07-09 07:01:24+00:00</td>\n",
       "      <td>ibrahim___ethem</td>\n",
       "      <td>23</td>\n",
       "      <td>379</td>\n",
       "      <td>136873</td>\n",
       "      <td>False</td>\n",
       "      <td>Gerçek</td>\n",
       "    </tr>\n",
       "    <tr>\n",
       "      <th>3</th>\n",
       "      <td>221226</td>\n",
       "      <td>📍Fortune 500 listesinde 2020 ve 2021’de yer al...</td>\n",
       "      <td>2022-07-08 13:02:50+00:00</td>\n",
       "      <td>ibrahim___ethem</td>\n",
       "      <td>62</td>\n",
       "      <td>665</td>\n",
       "      <td>136873</td>\n",
       "      <td>False</td>\n",
       "      <td>Gerçek</td>\n",
       "    </tr>\n",
       "    <tr>\n",
       "      <th>4</th>\n",
       "      <td>221227</td>\n",
       "      <td>Bi tatile gidip geldik 4-5 gün neler olmuş öyl...</td>\n",
       "      <td>2022-07-08 07:14:06+00:00</td>\n",
       "      <td>____PASA____</td>\n",
       "      <td>79</td>\n",
       "      <td>1647</td>\n",
       "      <td>111568</td>\n",
       "      <td>False</td>\n",
       "      <td>Gerçek</td>\n",
       "    </tr>\n",
       "  </tbody>\n",
       "</table>\n",
       "</div>"
      ],
      "text/plain": [
       "       id                                               text  \\\n",
       "0  221222  Bloomberg Businessweek’in 3 Temmuz tarihli öze...   \n",
       "1  221223  en UCUZ #BIST 100 #hisse'leri\\n#SAHOL 18,68&gt...   \n",
       "2  221225  📍İstanbul Havalimanı dün tarihinin en yüksek u...   \n",
       "3  221226  📍Fortune 500 listesinde 2020 ve 2021’de yer al...   \n",
       "4  221227  Bi tatile gidip geldik 4-5 gün neler olmuş öyl...   \n",
       "\n",
       "                        date             user   rt   fav  followers  verified  \\\n",
       "0  2022-07-10 10:16:06+00:00  ibrahim___ethem   20   343     136873     False   \n",
       "1  2022-07-09 20:53:12+00:00  ASIM_YALCINKAYA  107   934     138759     False   \n",
       "2  2022-07-09 07:01:24+00:00  ibrahim___ethem   23   379     136873     False   \n",
       "3  2022-07-08 13:02:50+00:00  ibrahim___ethem   62   665     136873     False   \n",
       "4  2022-07-08 07:14:06+00:00     ____PASA____   79  1647     111568     False   \n",
       "\n",
       "    label  \n",
       "0  Gerçek  \n",
       "1  Gerçek  \n",
       "2  Gerçek  \n",
       "3  Gerçek  \n",
       "4  Gerçek  "
      ]
     },
     "execution_count": 5,
     "metadata": {},
     "output_type": "execute_result"
    }
   ],
   "source": [
    "df.head()"
   ]
  },
  {
   "cell_type": "code",
   "execution_count": 8,
   "metadata": {},
   "outputs": [
    {
     "data": {
      "text/plain": [
       "array(['ibrahim___ethem', 'ASIM_YALCINKAYA', '____PASA____',\n",
       "       'kursadbucak', 'finansanalizz', 'zeynepxaktas', 'ForeksTurkey',\n",
       "       'PHOENIX07_', 'temettuhisse', 'Piri_KAPTAN', 'erhanhasmaden',\n",
       "       'kaanbey2002', 'arifcoskun05', 'morhipopotam', 'SelimKMD',\n",
       "       'ofegin', 'omerhankrm', 'TanerGenek', 'Dr_Arslan_SMMM',\n",
       "       'Sacro_Trade', 'UlubeyUlusoyy', 'MatriksHaber', 'perihantantug',\n",
       "       'traderAkin', 'ParaTeorisi', 'efekentli__', 'borsacibaba',\n",
       "       'hiakkaya', 'guzemyilmaz', 'TraderGlock', 'TuncayTursucu',\n",
       "       'borsaninizinden', 'MatriksB', 'xtrendci', 'ademayan66',\n",
       "       'borsaparatic', 'crypt_engineer', 'karahanager', 'laplace2011',\n",
       "       'Kriptozenciii', 'rockerfellerxau', 'Halil_BUHUR', 'fiboborsa',\n",
       "       'remdocan', 'borsaressami', 'fatihonline_', 'thetrader23',\n",
       "       'tunakaya_yk', 'proffibonacci', 'avrasyaanket', 'TeknikciHoca',\n",
       "       'KriptoLevent', 'derinhisse'], dtype=object)"
      ]
     },
     "execution_count": 8,
     "metadata": {},
     "output_type": "execute_result"
    }
   ],
   "source": [
    "df[df['followers']>100000].user.unique()"
   ]
  },
  {
   "cell_type": "code",
   "execution_count": 4,
   "metadata": {},
   "outputs": [],
   "source": [
    "model_path = \"dbmdz/bert-base-turkish-128k-uncased\"\n",
    "tokenizer = BertTokenizerFast.from_pretrained(model_path, max_len=512)"
   ]
  },
  {
   "cell_type": "code",
   "execution_count": 5,
   "metadata": {},
   "outputs": [],
   "source": [
    "def getTokenizedLabels(data):\n",
    "    labels_list = []\n",
    "    for text, doccano_label_list in zip(data['text'], data['label']):\n",
    "        encoding = tokenizer(text, return_offsets_mapping=True)\n",
    "        labels = [None] * len(encoding[\"offset_mapping\"])\n",
    "        doccano_label_index = 0\n",
    "        for index, token_tupple in enumerate(encoding[\"offset_mapping\"]):\n",
    "            \n",
    "            doccano_label = doccano_label_list[doccano_label_index]\n",
    "            if(token_tupple == (0,0)): continue\n",
    "\n",
    "            if(token_tupple[0] > doccano_label[1] and ((doccano_label_index+1) != len(doccano_label_list))):\n",
    "                doccano_label_index += 1\n",
    "                doccano_label = doccano_label_list[doccano_label_index]\n",
    "\n",
    "            if(doccano_label[0] <= token_tupple[0] <= doccano_label[1]):\n",
    "                labels[index] = doccano_label[2]\n",
    "            else:\n",
    "                labels[index] = 'O'\n",
    "        labels_list.append(labels)\n",
    "    return pd.Series(labels_list)"
   ]
  },
  {
   "cell_type": "code",
   "execution_count": 6,
   "metadata": {},
   "outputs": [],
   "source": [
    "def enumLabels(bert_labels):\n",
    "    label2id = {None:-100, 'O':0, 'Destek':1, 'Direnç':2, 'Hedef':3, 'Hisse':4, 'Vade':5}\n",
    "    id2label = {v:k for k,v in label2id.items()}\n",
    "    bert_labels_id = bert_labels.map(lambda x: [label2id[y] for y in x])\n",
    "    return bert_labels_id"
   ]
  },
  {
   "cell_type": "code",
   "execution_count": 7,
   "metadata": {},
   "outputs": [],
   "source": [
    "bert_labels = getTokenizedLabels(df)"
   ]
  },
  {
   "cell_type": "code",
   "execution_count": 9,
   "metadata": {},
   "outputs": [
    {
     "data": {
      "text/html": [
       "<div>\n",
       "<style scoped>\n",
       "    .dataframe tbody tr th:only-of-type {\n",
       "        vertical-align: middle;\n",
       "    }\n",
       "\n",
       "    .dataframe tbody tr th {\n",
       "        vertical-align: top;\n",
       "    }\n",
       "\n",
       "    .dataframe thead th {\n",
       "        text-align: right;\n",
       "    }\n",
       "</style>\n",
       "<table border=\"1\" class=\"dataframe\">\n",
       "  <thead>\n",
       "    <tr style=\"text-align: right;\">\n",
       "      <th></th>\n",
       "      <th>id</th>\n",
       "      <th>text</th>\n",
       "      <th>date</th>\n",
       "      <th>user</th>\n",
       "      <th>rt</th>\n",
       "      <th>fav</th>\n",
       "      <th>followers</th>\n",
       "      <th>verified</th>\n",
       "      <th>label</th>\n",
       "    </tr>\n",
       "  </thead>\n",
       "  <tbody>\n",
       "    <tr>\n",
       "      <th>0</th>\n",
       "      <td>35017</td>\n",
       "      <td>#ykbnk \\n\\nDestek : 4,45\\nDirenç  :4,85</td>\n",
       "      <td>2022-07-21 06:08:51</td>\n",
       "      <td>borsa_adami</td>\n",
       "      <td>1</td>\n",
       "      <td>21</td>\n",
       "      <td>5473</td>\n",
       "      <td>False</td>\n",
       "      <td>[[0, 7, Hisse], [18, 22, Destek], [32, 36, Dir...</td>\n",
       "    </tr>\n",
       "    <tr>\n",
       "      <th>1</th>\n",
       "      <td>35058</td>\n",
       "      <td>#ykbnk 3.90\\n#AKBNK 7.70\\n#sahol 18.80\\n#dohol...</td>\n",
       "      <td>2022-06-29 14:51:24</td>\n",
       "      <td>CemalX9</td>\n",
       "      <td>0</td>\n",
       "      <td>16</td>\n",
       "      <td>6090</td>\n",
       "      <td>False</td>\n",
       "      <td>[[0, 6, Hisse], [7, 11, Hedef], [12, 18, Hisse...</td>\n",
       "    </tr>\n",
       "    <tr>\n",
       "      <th>2</th>\n",
       "      <td>35072</td>\n",
       "      <td>#ykbnk \\nKapanış 4,92 TL\\nGÜÇLÜ YÜKSELİŞ TREND...</td>\n",
       "      <td>2022-06-22 20:53:27</td>\n",
       "      <td>mesut_al</td>\n",
       "      <td>0</td>\n",
       "      <td>6</td>\n",
       "      <td>12467</td>\n",
       "      <td>False</td>\n",
       "      <td>[[0, 6, Hisse], [60, 67, Destek], [116, 123, H...</td>\n",
       "    </tr>\n",
       "    <tr>\n",
       "      <th>3</th>\n",
       "      <td>35078</td>\n",
       "      <td>Hayırlı sabahlar dostlar,\\n\\n2.597'yi aşmak üz...</td>\n",
       "      <td>2022-06-22 06:59:45</td>\n",
       "      <td>CemalX9</td>\n",
       "      <td>0</td>\n",
       "      <td>19</td>\n",
       "      <td>6090</td>\n",
       "      <td>False</td>\n",
       "      <td>[[27, 33, Hedef], [70, 76, Hisse], [80, 86, Hi...</td>\n",
       "    </tr>\n",
       "    <tr>\n",
       "      <th>4</th>\n",
       "      <td>35081</td>\n",
       "      <td>#ykbnk 430 bölgesinde buralardan dönüş beklene...</td>\n",
       "      <td>2022-06-21 08:10:32</td>\n",
       "      <td>ofegin</td>\n",
       "      <td>1</td>\n",
       "      <td>196</td>\n",
       "      <td>106982</td>\n",
       "      <td>False</td>\n",
       "      <td>[[0, 6, Hisse], [90, 93, Direnç]]</td>\n",
       "    </tr>\n",
       "  </tbody>\n",
       "</table>\n",
       "</div>"
      ],
      "text/plain": [
       "      id                                               text  \\\n",
       "0  35017            #ykbnk \\n\\nDestek : 4,45\\nDirenç  :4,85   \n",
       "1  35058  #ykbnk 3.90\\n#AKBNK 7.70\\n#sahol 18.80\\n#dohol...   \n",
       "2  35072  #ykbnk \\nKapanış 4,92 TL\\nGÜÇLÜ YÜKSELİŞ TREND...   \n",
       "3  35078  Hayırlı sabahlar dostlar,\\n\\n2.597'yi aşmak üz...   \n",
       "4  35081  #ykbnk 430 bölgesinde buralardan dönüş beklene...   \n",
       "\n",
       "                 date         user  rt  fav  followers verified  \\\n",
       "0 2022-07-21 06:08:51  borsa_adami   1   21       5473    False   \n",
       "1 2022-06-29 14:51:24      CemalX9   0   16       6090    False   \n",
       "2 2022-06-22 20:53:27     mesut_al   0    6      12467    False   \n",
       "3 2022-06-22 06:59:45      CemalX9   0   19       6090    False   \n",
       "4 2022-06-21 08:10:32       ofegin   1  196     106982    False   \n",
       "\n",
       "                                               label  \n",
       "0  [[0, 7, Hisse], [18, 22, Destek], [32, 36, Dir...  \n",
       "1  [[0, 6, Hisse], [7, 11, Hedef], [12, 18, Hisse...  \n",
       "2  [[0, 6, Hisse], [60, 67, Destek], [116, 123, H...  \n",
       "3  [[27, 33, Hedef], [70, 76, Hisse], [80, 86, Hi...  \n",
       "4                  [[0, 6, Hisse], [90, 93, Direnç]]  "
      ]
     },
     "execution_count": 9,
     "metadata": {},
     "output_type": "execute_result"
    }
   ],
   "source": [
    "df.head()"
   ]
  },
  {
   "cell_type": "code",
   "execution_count": 12,
   "metadata": {},
   "outputs": [],
   "source": [
    "encoding = tokenizer(df.iloc[2].text, return_offsets_mapping=True)"
   ]
  },
  {
   "cell_type": "code",
   "execution_count": 13,
   "metadata": {},
   "outputs": [
    {
     "data": {
      "text/plain": [
       "{'input_ids': [2, 7, 62873, 98360, 74996, 1017, 24, 16, 10563, 3354, 94211, 73923, 1967, 32714, 2524, 2992, 18, 24, 16, 10018, 3354, 56918, 60831, 2524, 61392, 93534, 1011, 16, 16723, 25, 16, 3819, 3354, 11, 3553, 4429, 10862, 42064, 4730, 18, 18984, 5841, 24, 16, 10018, 3354, 3789, 17, 3098, 7473, 2682, 67408, 16, 63629, 2524, 84099, 18, 7, 7365, 7, 23181, 7, 23181, 20558, 7, 23181, 8936, 3], 'token_type_ids': [0, 0, 0, 0, 0, 0, 0, 0, 0, 0, 0, 0, 0, 0, 0, 0, 0, 0, 0, 0, 0, 0, 0, 0, 0, 0, 0, 0, 0, 0, 0, 0, 0, 0, 0, 0, 0, 0, 0, 0, 0, 0, 0, 0, 0, 0, 0, 0, 0, 0, 0, 0, 0, 0, 0, 0, 0, 0, 0, 0, 0, 0, 0, 0, 0, 0, 0, 0], 'attention_mask': [1, 1, 1, 1, 1, 1, 1, 1, 1, 1, 1, 1, 1, 1, 1, 1, 1, 1, 1, 1, 1, 1, 1, 1, 1, 1, 1, 1, 1, 1, 1, 1, 1, 1, 1, 1, 1, 1, 1, 1, 1, 1, 1, 1, 1, 1, 1, 1, 1, 1, 1, 1, 1, 1, 1, 1, 1, 1, 1, 1, 1, 1, 1, 1, 1, 1, 1, 1], 'offset_mapping': [(0, 0), (0, 1), (1, 4), (4, 6), (8, 14), (14, 15), (16, 17), (17, 18), (18, 20), (21, 23), (24, 29), (30, 36), (36, 38), (39, 45), (46, 51), (52, 58), (58, 59), (60, 61), (61, 62), (62, 64), (65, 67), (68, 76), (77, 84), (85, 90), (91, 97), (98, 103), (103, 104), (104, 105), (106, 115), (116, 117), (117, 118), (118, 120), (121, 123), (123, 124), (124, 126), (127, 131), (132, 140), (141, 147), (148, 157), (157, 158), (159, 168), (169, 176), (177, 178), (178, 179), (179, 181), (182, 184), (185, 190), (190, 191), (191, 194), (195, 202), (203, 208), (209, 214), (214, 215), (216, 230), (231, 236), (237, 248), (248, 249), (250, 251), (251, 256), (257, 258), (258, 262), (263, 264), (264, 268), (268, 271), (272, 273), (273, 277), (277, 279), (0, 0)]}"
      ]
     },
     "execution_count": 13,
     "metadata": {},
     "output_type": "execute_result"
    }
   ],
   "source": [
    "encoding"
   ]
  },
  {
   "cell_type": "code",
   "execution_count": 8,
   "metadata": {},
   "outputs": [
    {
     "data": {
      "text/plain": [
       "[None,\n",
       " 'Hisse',\n",
       " 'Hisse',\n",
       " 'Hisse',\n",
       " 'O',\n",
       " 'O',\n",
       " 'Destek',\n",
       " 'Destek',\n",
       " 'Destek',\n",
       " 'O',\n",
       " 'O',\n",
       " 'Direnç',\n",
       " 'Direnç',\n",
       " 'Direnç',\n",
       " None]"
      ]
     },
     "execution_count": 8,
     "metadata": {},
     "output_type": "execute_result"
    }
   ],
   "source": [
    "bert_labels[0]"
   ]
  },
  {
   "cell_type": "code",
   "execution_count": 1,
   "metadata": {},
   "outputs": [],
   "source": [
    "from wordcloud import WordCloud, STOPWORDS \n",
    "import matplotlib.pyplot as plt \n",
    "import pandas as pd\n",
    "import  numpy as np\n",
    "import requests\n",
    "from PIL import Image"
   ]
  },
  {
   "cell_type": "code",
   "execution_count": 2,
   "metadata": {},
   "outputs": [],
   "source": [
    "df = pd.read_csv('/Users/damlakonur/Desktop/bist30-nlp/BinaryClassification/data/dataset.csv')"
   ]
  },
  {
   "cell_type": "code",
   "execution_count": 4,
   "metadata": {},
   "outputs": [
    {
     "data": {
      "text/html": [
       "<div>\n",
       "<style scoped>\n",
       "    .dataframe tbody tr th:only-of-type {\n",
       "        vertical-align: middle;\n",
       "    }\n",
       "\n",
       "    .dataframe tbody tr th {\n",
       "        vertical-align: top;\n",
       "    }\n",
       "\n",
       "    .dataframe thead th {\n",
       "        text-align: right;\n",
       "    }\n",
       "</style>\n",
       "<table border=\"1\" class=\"dataframe\">\n",
       "  <thead>\n",
       "    <tr style=\"text-align: right;\">\n",
       "      <th></th>\n",
       "      <th>id</th>\n",
       "      <th>text</th>\n",
       "      <th>date</th>\n",
       "      <th>user</th>\n",
       "      <th>rt</th>\n",
       "      <th>fav</th>\n",
       "      <th>followers</th>\n",
       "      <th>verified</th>\n",
       "      <th>label</th>\n",
       "    </tr>\n",
       "  </thead>\n",
       "  <tbody>\n",
       "    <tr>\n",
       "      <th>0</th>\n",
       "      <td>221222</td>\n",
       "      <td>Bloomberg Businessweek’in 3 Temmuz tarihli öze...</td>\n",
       "      <td>2022-07-10 10:16:06+00:00</td>\n",
       "      <td>ibrahim___ethem</td>\n",
       "      <td>20</td>\n",
       "      <td>343</td>\n",
       "      <td>136873</td>\n",
       "      <td>False</td>\n",
       "      <td>Gerçek</td>\n",
       "    </tr>\n",
       "    <tr>\n",
       "      <th>1</th>\n",
       "      <td>221223</td>\n",
       "      <td>en UCUZ #BIST 100 #hisse'leri\\n#SAHOL 18,68&amp;gt...</td>\n",
       "      <td>2022-07-09 20:53:12+00:00</td>\n",
       "      <td>ASIM_YALCINKAYA</td>\n",
       "      <td>107</td>\n",
       "      <td>934</td>\n",
       "      <td>138759</td>\n",
       "      <td>False</td>\n",
       "      <td>Gerçek</td>\n",
       "    </tr>\n",
       "    <tr>\n",
       "      <th>2</th>\n",
       "      <td>221225</td>\n",
       "      <td>📍İstanbul Havalimanı dün tarihinin en yüksek u...</td>\n",
       "      <td>2022-07-09 07:01:24+00:00</td>\n",
       "      <td>ibrahim___ethem</td>\n",
       "      <td>23</td>\n",
       "      <td>379</td>\n",
       "      <td>136873</td>\n",
       "      <td>False</td>\n",
       "      <td>Gerçek</td>\n",
       "    </tr>\n",
       "    <tr>\n",
       "      <th>3</th>\n",
       "      <td>221226</td>\n",
       "      <td>📍Fortune 500 listesinde 2020 ve 2021’de yer al...</td>\n",
       "      <td>2022-07-08 13:02:50+00:00</td>\n",
       "      <td>ibrahim___ethem</td>\n",
       "      <td>62</td>\n",
       "      <td>665</td>\n",
       "      <td>136873</td>\n",
       "      <td>False</td>\n",
       "      <td>Gerçek</td>\n",
       "    </tr>\n",
       "    <tr>\n",
       "      <th>4</th>\n",
       "      <td>221227</td>\n",
       "      <td>Bi tatile gidip geldik 4-5 gün neler olmuş öyl...</td>\n",
       "      <td>2022-07-08 07:14:06+00:00</td>\n",
       "      <td>____PASA____</td>\n",
       "      <td>79</td>\n",
       "      <td>1647</td>\n",
       "      <td>111568</td>\n",
       "      <td>False</td>\n",
       "      <td>Gerçek</td>\n",
       "    </tr>\n",
       "  </tbody>\n",
       "</table>\n",
       "</div>"
      ],
      "text/plain": [
       "       id                                               text  \\\n",
       "0  221222  Bloomberg Businessweek’in 3 Temmuz tarihli öze...   \n",
       "1  221223  en UCUZ #BIST 100 #hisse'leri\\n#SAHOL 18,68&gt...   \n",
       "2  221225  📍İstanbul Havalimanı dün tarihinin en yüksek u...   \n",
       "3  221226  📍Fortune 500 listesinde 2020 ve 2021’de yer al...   \n",
       "4  221227  Bi tatile gidip geldik 4-5 gün neler olmuş öyl...   \n",
       "\n",
       "                        date             user   rt   fav  followers  verified  \\\n",
       "0  2022-07-10 10:16:06+00:00  ibrahim___ethem   20   343     136873     False   \n",
       "1  2022-07-09 20:53:12+00:00  ASIM_YALCINKAYA  107   934     138759     False   \n",
       "2  2022-07-09 07:01:24+00:00  ibrahim___ethem   23   379     136873     False   \n",
       "3  2022-07-08 13:02:50+00:00  ibrahim___ethem   62   665     136873     False   \n",
       "4  2022-07-08 07:14:06+00:00     ____PASA____   79  1647     111568     False   \n",
       "\n",
       "    label  \n",
       "0  Gerçek  \n",
       "1  Gerçek  \n",
       "2  Gerçek  \n",
       "3  Gerçek  \n",
       "4  Gerçek  "
      ]
     },
     "execution_count": 4,
     "metadata": {},
     "output_type": "execute_result"
    }
   ],
   "source": [
    "df.head()"
   ]
  },
  {
   "cell_type": "code",
   "execution_count": 1,
   "metadata": {},
   "outputs": [],
   "source": [
    "a = {'cashtags': None, 'content': '#XU100 2.510\\n\\nPiyasalarda bunaltıcı sıcak sürüyor, terlemeye devam ABD enflasyonu ve FED faiz artışı beklentisiyle.\\n\\nBu beklenti öyle veya böyle gerçekleştiğinde kısa vadeli belirsizlik biter. \\n\\nEndeks 2.516 puan 21EMA üzerine atarsa rahatlar.\\nBu seviye altında 2.420 desteği var.', 'conversationId': 1536444639275778000, 'coordinates': None, 'date': 'Mon, 13 Jun 2022 20:25:22 GMT', 'hashtags': ['XU100'], 'id': 1536444639275778000, 'inReplyToTweetId': None, 'inReplyToUser': None, 'lang': 'tr', 'likeCount': 287, 'media': None, 'mentionedUsers': None, 'outlinks': None, 'place': None, 'quoteCount': 0, 'quotedTweet': None, 'renderedContent': '#XU100 2.510\\n\\nPiyasalarda bunaltıcı sıcak sürüyor, terlemeye devam ABD enflasyonu ve FED faiz artışı beklentisiyle.\\n\\nBu beklenti öyle veya böyle gerçekleştiğinde kısa vadeli belirsizlik biter. \\n\\nEndeks 2.516 puan 21EMA üzerine atarsa rahatlar.\\nBu seviye altında 2.420 desteği var.', 'replyCount': 5, 'retweetCount': 13, 'retweetedTweet': None, 'source': '<a href=\"http://twitter.com/download/iphone\" rel=\"nofollow\">Twitter for iPhone</a>', 'sourceLabel': 'Twitter for iPhone', 'sourceUrl': 'http://twitter.com/download/iphone', 'tcooutlinks': None, 'url': 'https://twitter.com/Halil_BUHUR/status/1536444639275778048', 'user': {'created': 'Thu, 08 Sep 2011 10:39:04 GMT', 'description': 'Official Twitter Account of Halil BUHUR & Founder of halilbuhur.com & İktisatçı & Yüksek Lisans İşletme & #Temel #Teknik ve #Takas Analizi & #Buhur25', 'descriptionUrls': [{'indices': [53, 76], 'tcourl': 'https://t.co/IeMB7Hg64v', 'text': 'halilbuhur.com', 'url': 'http://halilbuhur.com'}], 'displayname': 'Halil BUHUR', 'favouritesCount': 9001, 'followersCount': 141028, 'friendsCount': 95, 'id': 370031741, 'label': None, 'linkTcourl': 'https://t.co/OwOODHg1uz', 'linkUrl': 'https://halilbuhur.com/', 'listedCount': 1227, 'location': 'Izmir - TURKEY', 'mediaCount': 788, 'profileBannerUrl': 'https://pbs.twimg.com/profile_banners/370031741/1506444533', 'profileImageUrl': 'https://pbs.twimg.com/profile_images/1456618581127479298/BNIUSWR1_normal.jpg', 'protected': False, 'rawDescription': 'Official Twitter Account of Halil BUHUR & Founder of https://t.co/IeMB7Hg64v & İktisatçı & Yüksek Lisans İşletme & #Temel #Teknik ve #Takas Analizi & #Buhur25', 'statusesCount': 51204, 'username': 'Halil_BUHUR', 'verified': False}}"
   ]
  },
  {
   "cell_type": "code",
   "execution_count": 2,
   "metadata": {},
   "outputs": [
    {
     "data": {
      "text/plain": [
       "'#XU100 2.510\\n\\nPiyasalarda bunaltıcı sıcak sürüyor, terlemeye devam ABD enflasyonu ve FED faiz artışı beklentisiyle.\\n\\nBu beklenti öyle veya böyle gerçekleştiğinde kısa vadeli belirsizlik biter. \\n\\nEndeks 2.516 puan 21EMA üzerine atarsa rahatlar.\\nBu seviye altında 2.420 desteği var.'"
      ]
     },
     "execution_count": 2,
     "metadata": {},
     "output_type": "execute_result"
    }
   ],
   "source": [
    "a['content']"
   ]
  },
  {
   "cell_type": "code",
   "execution_count": 4,
   "metadata": {},
   "outputs": [],
   "source": [
    "str = a['date']"
   ]
  },
  {
   "cell_type": "code",
   "execution_count": 39,
   "metadata": {},
   "outputs": [
    {
     "data": {
      "text/plain": [
       "str"
      ]
     },
     "execution_count": 39,
     "metadata": {},
     "output_type": "execute_result"
    }
   ],
   "source": [
    "# dont take last 4 characters\n",
    "type(str[:-4])"
   ]
  },
  {
   "cell_type": "code",
   "execution_count": 20,
   "metadata": {},
   "outputs": [],
   "source": [
    "import time \n",
    "ts = time.strftime('%Y-%m-%d %H:%M:%S', time.strptime(str[:-4],'%a, %d %b %Y %H:%M:%S'))"
   ]
  },
  {
   "cell_type": "code",
   "execution_count": 54,
   "metadata": {},
   "outputs": [
    {
     "data": {
      "text/plain": [
       "(str, '2022-06-13')"
      ]
     },
     "execution_count": 54,
     "metadata": {},
     "output_type": "execute_result"
    }
   ],
   "source": [
    "type(ts[:-9]), ts[:-9]"
   ]
  },
  {
   "cell_type": "code",
   "execution_count": 36,
   "metadata": {},
   "outputs": [],
   "source": [
    "# ts to datetime obj\n",
    "import datetime\n",
    "a = datetime.datetime.strptime(ts[:-9],'%Y-%m-%d').date()"
   ]
  },
  {
   "cell_type": "code",
   "execution_count": 40,
   "metadata": {},
   "outputs": [
    {
     "data": {
      "text/plain": [
       "datetime.datetime(2022, 6, 13, 0, 0)"
      ]
     },
     "execution_count": 40,
     "metadata": {},
     "output_type": "execute_result"
    }
   ],
   "source": [
    "startDt = datetime.datetime.strptime(start_date[:-9],'%Y-%m-%d').date()"
   ]
  },
  {
   "cell_type": "code",
   "execution_count": 26,
   "metadata": {},
   "outputs": [
    {
     "data": {
      "text/plain": [
       "datetime.datetime"
      ]
     },
     "execution_count": 26,
     "metadata": {},
     "output_type": "execute_result"
    }
   ],
   "source": [
    "type(a)\n",
    "# convert a to datetime object\n",
    "a = datetime.datetime.strptime(str[:-4],'%a, %d %b %Y %H:%M:%S')"
   ]
  },
  {
   "cell_type": "code",
   "execution_count": 62,
   "metadata": {},
   "outputs": [],
   "source": [
    "b = datetime.datetime.today()"
   ]
  },
  {
   "cell_type": "code",
   "execution_count": 52,
   "metadata": {},
   "outputs": [
    {
     "data": {
      "text/plain": [
       "(str, '2022-08-16')"
      ]
     },
     "execution_count": 52,
     "metadata": {},
     "output_type": "execute_result"
    }
   ],
   "source": [
    "today = datetime.datetime.today().strftime('%Y-%m-%d')\n",
    "type(today), today"
   ]
  },
  {
   "cell_type": "code",
   "execution_count": 64,
   "metadata": {},
   "outputs": [
    {
     "data": {
      "text/plain": [
       "datetime.datetime(2022, 6, 13, 0, 0)"
      ]
     },
     "execution_count": 64,
     "metadata": {},
     "output_type": "execute_result"
    }
   ],
   "source": [
    "a"
   ]
  },
  {
   "cell_type": "code",
   "execution_count": 49,
   "metadata": {},
   "outputs": [
    {
     "data": {
      "text/plain": [
       "False"
      ]
     },
     "execution_count": 49,
     "metadata": {},
     "output_type": "execute_result"
    }
   ],
   "source": [
    "diff = b < a\n",
    "diff"
   ]
  },
  {
   "cell_type": "code",
   "execution_count": 9,
   "metadata": {},
   "outputs": [
    {
     "data": {
      "text/plain": [
       "'Mon, 13 Jun 2022 20:25:22 GMT'"
      ]
     },
     "execution_count": 9,
     "metadata": {},
     "output_type": "execute_result"
    }
   ],
   "source": [
    "str.format()"
   ]
  },
  {
   "cell_type": "code",
   "execution_count": 55,
   "metadata": {},
   "outputs": [],
   "source": [
    "\n",
    "startDt = datetime.datetime.strptime('2022-06-13','%Y-%m-%d').date()"
   ]
  },
  {
   "cell_type": "code",
   "execution_count": 56,
   "metadata": {},
   "outputs": [
    {
     "data": {
      "text/plain": [
       "datetime.date(2022, 6, 13)"
      ]
     },
     "execution_count": 56,
     "metadata": {},
     "output_type": "execute_result"
    }
   ],
   "source": [
    "startDt"
   ]
  },
  {
   "cell_type": "code",
   "execution_count": null,
   "metadata": {},
   "outputs": [],
   "source": []
  }
 ],
 "metadata": {
  "kernelspec": {
   "display_name": "Python 3.9.12 64-bit",
   "language": "python",
   "name": "python3"
  },
  "language_info": {
   "codemirror_mode": {
    "name": "ipython",
    "version": 3
   },
   "file_extension": ".py",
   "mimetype": "text/x-python",
   "name": "python",
   "nbconvert_exporter": "python",
   "pygments_lexer": "ipython3",
   "version": "3.9.12"
  },
  "orig_nbformat": 4,
  "vscode": {
   "interpreter": {
    "hash": "aee8b7b246df8f9039afb4144a1f6fd8d2ca17a180786b69acc140d282b71a49"
   }
  }
 },
 "nbformat": 4,
 "nbformat_minor": 2
}
